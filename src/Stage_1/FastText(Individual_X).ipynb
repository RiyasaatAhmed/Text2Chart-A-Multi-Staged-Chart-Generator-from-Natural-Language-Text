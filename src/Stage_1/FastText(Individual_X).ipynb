{
  "nbformat": 4,
  "nbformat_minor": 0,
  "metadata": {
    "colab": {
      "name": "FastText(Individual-X).ipynb",
      "provenance": [],
      "collapsed_sections": []
    },
    "kernelspec": {
      "name": "python3",
      "display_name": "Python 3"
    }
  },
  "cells": [
    {
      "cell_type": "code",
      "metadata": {
        "id": "1yPdGW9l4ure"
      },
      "source": [
        "import os"
      ],
      "execution_count": null,
      "outputs": []
    },
    {
      "cell_type": "code",
      "metadata": {
        "id": "KnaflCTx44W-"
      },
      "source": [
        "os.chdir(\"drive/My Drive/Thesis\")"
      ],
      "execution_count": null,
      "outputs": []
    },
    {
      "cell_type": "code",
      "metadata": {
        "id": "TS7Yh1ZL4K4r"
      },
      "source": [
        "from gensim.models import Word2Vec\n",
        "from gensim.models import KeyedVectors"
      ],
      "execution_count": null,
      "outputs": []
    },
    {
      "cell_type": "code",
      "metadata": {
        "id": "v_DWiDIa6qhG"
      },
      "source": [
        "from gensim.models import FastText"
      ],
      "execution_count": null,
      "outputs": []
    },
    {
      "cell_type": "code",
      "metadata": {
        "id": "b9qdgeZp4QAL"
      },
      "source": [
        "pre_model = FastText.load_fasttext_format('w2v/wiki.simple')"
      ],
      "execution_count": null,
      "outputs": []
    },
    {
      "cell_type": "code",
      "metadata": {
        "colab": {
          "base_uri": "https://localhost:8080/",
          "height": 163
        },
        "id": "Xc-Visa-7uw4",
        "outputId": "e3710aa3-6cc8-4645-e001-85b6997eb72a"
      },
      "source": [
        "np.shape(pre_model['cat'])"
      ],
      "execution_count": null,
      "outputs": [
        {
          "output_type": "error",
          "ename": "NameError",
          "evalue": "ignored",
          "traceback": [
            "\u001b[0;31m---------------------------------------------------------------------------\u001b[0m",
            "\u001b[0;31mNameError\u001b[0m                                 Traceback (most recent call last)",
            "\u001b[0;32m<ipython-input-6-7aed937e2de3>\u001b[0m in \u001b[0;36m<module>\u001b[0;34m()\u001b[0m\n\u001b[0;32m----> 1\u001b[0;31m \u001b[0mnp\u001b[0m\u001b[0;34m.\u001b[0m\u001b[0mshape\u001b[0m\u001b[0;34m(\u001b[0m\u001b[0mpre_model\u001b[0m\u001b[0;34m[\u001b[0m\u001b[0;34m'cat'\u001b[0m\u001b[0;34m]\u001b[0m\u001b[0;34m)\u001b[0m\u001b[0;34m\u001b[0m\u001b[0;34m\u001b[0m\u001b[0m\n\u001b[0m",
            "\u001b[0;31mNameError\u001b[0m: name 'np' is not defined"
          ]
        }
      ]
    },
    {
      "cell_type": "code",
      "metadata": {
        "colab": {
          "base_uri": "https://localhost:8080/"
        },
        "id": "Rab0xDOnHdrP",
        "outputId": "7f8e7174-d28f-487b-f8fb-4492b2d42dcb"
      },
      "source": [
        "if 'In' in pre_model:\n",
        "  print('Hello')"
      ],
      "execution_count": null,
      "outputs": [
        {
          "output_type": "stream",
          "text": [
            "/usr/local/lib/python3.6/dist-packages/ipykernel_launcher.py:1: DeprecationWarning: Call to deprecated `__contains__` (Method will be removed in 4.0.0, use self.wv.__contains__() instead).\n",
            "  \"\"\"Entry point for launching an IPython kernel.\n"
          ],
          "name": "stderr"
        }
      ]
    },
    {
      "cell_type": "code",
      "metadata": {
        "id": "CgcJn4Dv5Cw1"
      },
      "source": [
        "import json\n",
        "import string"
      ],
      "execution_count": null,
      "outputs": []
    },
    {
      "cell_type": "code",
      "metadata": {
        "id": "UB3TdnI25PJM"
      },
      "source": [
        "raw_text = []\n",
        "raw_label = []\n",
        "with open('training.json') as f:\n",
        "  file = json.load(f)\n",
        "  f.close()\n",
        "for x in file:\n",
        "  raw_text.append(x['text'])\n",
        "  raw_label.append(x['label'])"
      ],
      "execution_count": null,
      "outputs": []
    },
    {
      "cell_type": "code",
      "metadata": {
        "id": "h_Lxf8SgKrOS"
      },
      "source": [
        "import tensorflow as tf"
      ],
      "execution_count": null,
      "outputs": []
    },
    {
      "cell_type": "code",
      "metadata": {
        "id": "plDp7Ulc6VTG"
      },
      "source": [
        "sequence_length = 55 # tune it to max 300\n",
        "\n",
        "def wv_input(text_list, label_list):\n",
        "  input_id_list = []\n",
        "  attention_mask_list = []\n",
        "  tag_list = []\n",
        "  for sentence, stripe in zip(text_list, label_list):\n",
        "    temp_token = []\n",
        "    temp_tag = []\n",
        "    temp_attention = []\n",
        "    temp_type = []\n",
        "    for word, tag in zip(sentence.split(), stripe):\n",
        "      if tag == 2:\n",
        "        tag = 0\n",
        "      if word in string.punctuation:\n",
        "        continue\n",
        "     # print('here')\n",
        "     # print(word)\n",
        "      if word in pre_model:\n",
        "        new_token = [pre_model[word]]\n",
        "        new_label = [tag] \n",
        "        new_attention = [1]\n",
        "      else:\n",
        "        new_token = [np.array([-1.0 for i in range(300)])]\n",
        "        new_label = [tag]\n",
        "        new_attention = [1]\n",
        "      \n",
        "      temp_token.extend(new_token)\n",
        "      temp_tag.extend(new_label)\n",
        "      temp_attention.extend(new_attention)\n",
        "   ## print(np.shape(temp_token))\n",
        "   # print(temp_token)\n",
        "\n",
        "\n",
        "    if len(temp_token) < sequence_length:\n",
        "      extend_list = [[-1.00 for i in range(300)]] * (sequence_length - len(temp_token))\n",
        "      extend_tag = [2] * (sequence_length - len(temp_token))\n",
        "      temp_attention = temp_attention + [0] * (sequence_length - len(temp_token))\n",
        "      temp_token = temp_token + extend_list\n",
        "      temp_tag = temp_tag + extend_tag\n",
        "\n",
        "    elif len(temp_token) > sequence_length:\n",
        "      temp_token = temp_token[:sequence_length ]\n",
        "      temp_attention = temp_attention[:sequence_length]\n",
        "      temp_tag = temp_tag[:sequence_length]\n",
        "\n",
        "    input_id_list.append(temp_token)\n",
        "    attention_mask_list.append(temp_attention)\n",
        "    tag_list.append(temp_tag)\n",
        "\n",
        "  \n",
        "  \n",
        "  return np.array(input_id_list), np.array(attention_mask_list), np.array(tag_list)"
      ],
      "execution_count": null,
      "outputs": []
    },
    {
      "cell_type": "code",
      "metadata": {
        "id": "S-vWjObkLhSY"
      },
      "source": [
        "import numpy as np"
      ],
      "execution_count": null,
      "outputs": []
    },
    {
      "cell_type": "code",
      "metadata": {
        "colab": {
          "base_uri": "https://localhost:8080/"
        },
        "id": "Rhcy2cv8KaLL",
        "outputId": "0e616747-9207-43ee-b95a-8dadfeb9513e"
      },
      "source": [
        "input_data, mask_data, output_data  = wv_input(raw_text, raw_label)"
      ],
      "execution_count": null,
      "outputs": [
        {
          "output_type": "stream",
          "text": [
            "/usr/local/lib/python3.6/dist-packages/ipykernel_launcher.py:19: DeprecationWarning: Call to deprecated `__contains__` (Method will be removed in 4.0.0, use self.wv.__contains__() instead).\n",
            "/usr/local/lib/python3.6/dist-packages/ipykernel_launcher.py:20: DeprecationWarning: Call to deprecated `__getitem__` (Method will be removed in 4.0.0, use self.wv.__getitem__() instead).\n"
          ],
          "name": "stderr"
        }
      ]
    },
    {
      "cell_type": "code",
      "metadata": {
        "colab": {
          "base_uri": "https://localhost:8080/"
        },
        "id": "R-cpuwPLKmMY",
        "outputId": "43933102-cf4e-402e-8014-3ab3e24c764b"
      },
      "source": [
        "np.shape(input_data), np.shape(output_data)"
      ],
      "execution_count": null,
      "outputs": [
        {
          "output_type": "execute_result",
          "data": {
            "text/plain": [
              "((580, 100, 300), (580, 100))"
            ]
          },
          "metadata": {
            "tags": []
          },
          "execution_count": 18
        }
      ]
    },
    {
      "cell_type": "code",
      "metadata": {
        "id": "U-SQDZFJO_oS"
      },
      "source": [
        "train_data_x = np.array(input_data[:464])\n",
        "valid_data_x = np.array(input_data[464:])                   "
      ],
      "execution_count": null,
      "outputs": []
    },
    {
      "cell_type": "code",
      "metadata": {
        "id": "vCmug7NFPPnB"
      },
      "source": [
        "train_data_y = np.array(output_data[:464]).reshape(464, -1, 1)\n",
        "valid_data_y = np.array(output_data[464:]).reshape(116, -1, 1)"
      ],
      "execution_count": null,
      "outputs": []
    },
    {
      "cell_type": "code",
      "metadata": {
        "id": "INrU4rL3YKyl"
      },
      "source": [
        "train_mask = np.array(mask_data[:464])\n",
        "valid_mask = np.array(mask_data[464:])"
      ],
      "execution_count": null,
      "outputs": []
    },
    {
      "cell_type": "code",
      "metadata": {
        "id": "KzgzzkA7RaJy"
      },
      "source": [
        "from sklearn.metrics import classification_report\n",
        "from sklearn.metrics import confusion_matrix"
      ],
      "execution_count": null,
      "outputs": []
    },
    {
      "cell_type": "code",
      "metadata": {
        "id": "LEWfKWajRgUx"
      },
      "source": [
        "best = 0\n",
        "num_label = 3\n",
        "def see(ty, tp):\n",
        "  #model.load('')\n",
        "  ty = ty.reshape(-1)\n",
        "  tp = tp.reshape(-1, num_label)\n",
        "  #print(tp.shape, ty.shape)\n",
        "  tp = [np.argmax(x) for x in tp]\n",
        "  dix = np.where(ty == (num_label - 1))[0]\n",
        "  tp = np.delete(tp, dix)\n",
        "  ty = np.delete(ty, dix)\n",
        "  #valid_p = [1 if x > 0.5 else 0 for x in model.predict(valid_x)]\n",
        "  #valid_p = model.predict(valid_x)\n",
        " # print(np.shape(tp), ty.shape)\n",
        "  print('\\nClassification Report \\n\\n')\n",
        "  \n",
        "  f = classification_report(ty, tp)\n",
        "  print(f)\n",
        " # print('\\nPrint Confusion Matrix \\n\\n')\n",
        "  print(confusion_matrix(ty, tp))\n",
        "  return f1_score(ty, tp, average=None)[1]"
      ],
      "execution_count": null,
      "outputs": []
    },
    {
      "cell_type": "code",
      "metadata": {
        "id": "i9piFpZqRjm5"
      },
      "source": [
        "class mcb(tf.keras.callbacks.Callback):\n",
        "  def on_epoch_end(self, epoch, log=None):\n",
        "   # global train_x, train_y, valid_x, valid_y\n",
        "    print('here')\n",
        "    _y = self.model.predict(train_data_x)\n",
        "    see(train_data_y, _y)\n",
        "    _y = self.model.predict(valid_data_x)\n",
        "    see(valid_data_y, _y)"
      ],
      "execution_count": null,
      "outputs": []
    },
    {
      "cell_type": "code",
      "metadata": {
        "id": "8Qt1asEqRm0R"
      },
      "source": [
        "model = tf.keras.Sequential([\n",
        "                             tf.keras.layers.LSTM(units=512, return_sequences=True),\n",
        "                             tf.keras.layers.LSTM(units=128, return_sequences=True),\n",
        "                             tf.keras.layers.TimeDistributed(tf.keras.layers.Dense(64, activation='relu')),\n",
        "                             tf.keras.layers.Dense(1024, activation='relu'),\n",
        "                             tf.keras.layers.Dense(3, activation='softmax')\n",
        "])"
      ],
      "execution_count": null,
      "outputs": []
    },
    {
      "cell_type": "code",
      "metadata": {
        "id": "jjjHd5tsRrKl"
      },
      "source": [
        "model.compile(loss='sparse_categorical_crossentropy', optimizer='adam',\n",
        "              metrics=['accuracy'])"
      ],
      "execution_count": null,
      "outputs": []
    },
    {
      "cell_type": "code",
      "metadata": {
        "colab": {
          "base_uri": "https://localhost:8080/"
        },
        "id": "U23pbRxKRuGi",
        "outputId": "0af3d363-f46e-4676-c79f-52f151e57bc8"
      },
      "source": [
        "model.fit(train_data_x, train_data_y, epochs=3,\n",
        "          validation_data=(valid_data_x, valid_data_y),\n",
        "          sample_weight=train_mask, callbacks=[mcb()],\n",
        "          batch_size=8)"
      ],
      "execution_count": null,
      "outputs": [
        {
          "output_type": "stream",
          "text": [
            "Epoch 1/3\n",
            "58/58 [==============================] - 37s 568ms/step - loss: 0.3806 - accuracy: 0.5320 - val_loss: 4.3631 - val_accuracy: 0.5792\n",
            "here\n",
            "(25520, 3) (25520,)\n",
            "(25520,) (25520,)\n",
            "\n",
            "Classification Report \n",
            "\n",
            "\n",
            "              precision    recall  f1-score   support\n",
            "\n",
            "           0       0.57      1.00      0.72     14432\n",
            "           1       0.93      0.01      0.02      2831\n",
            "           2       0.00      0.00      0.00      8257\n",
            "\n",
            "    accuracy                           0.57     25520\n",
            "   macro avg       0.50      0.34      0.25     25520\n",
            "weighted avg       0.42      0.57      0.41     25520\n",
            "\n",
            "\n",
            "Print Confusion Matrix \n",
            "\n",
            "\n",
            "[[14430     2     0]\n",
            " [ 2806    25     0]\n",
            " [ 8257     0     0]]\n"
          ],
          "name": "stdout"
        },
        {
          "output_type": "stream",
          "text": [
            "/usr/local/lib/python3.6/dist-packages/sklearn/metrics/_classification.py:1272: UndefinedMetricWarning: Precision and F-score are ill-defined and being set to 0.0 in labels with no predicted samples. Use `zero_division` parameter to control this behavior.\n",
            "  _warn_prf(average, modifier, msg_start, len(result))\n"
          ],
          "name": "stderr"
        },
        {
          "output_type": "stream",
          "text": [
            "(6380, 3) (6380,)\n",
            "(6380,) (6380,)\n",
            "\n",
            "Classification Report \n",
            "\n",
            "\n",
            "              precision    recall  f1-score   support\n",
            "\n",
            "           0       0.58      1.00      0.73      3694\n",
            "           1       0.67      0.00      0.00       833\n",
            "           2       0.00      0.00      0.00      1853\n",
            "\n",
            "    accuracy                           0.58      6380\n",
            "   macro avg       0.42      0.33      0.25      6380\n",
            "weighted avg       0.42      0.58      0.43      6380\n",
            "\n",
            "\n",
            "Print Confusion Matrix \n",
            "\n",
            "\n",
            "[[3693    1    0]\n",
            " [ 831    2    0]\n",
            " [1853    0    0]]\n",
            "Epoch 2/3\n",
            "58/58 [==============================] - 31s 537ms/step - loss: 0.2457 - accuracy: 0.5860 - val_loss: 3.0334 - val_accuracy: 0.6005\n",
            "here\n",
            "(25520, 3) (25520,)\n",
            "(25520,) (25520,)\n",
            "\n",
            "Classification Report \n",
            "\n",
            "\n",
            "              precision    recall  f1-score   support\n",
            "\n",
            "           0       0.58      1.00      0.73     14432\n",
            "           1       0.88      0.18      0.30      2831\n",
            "           2       0.00      0.00      0.00      8257\n",
            "\n",
            "    accuracy                           0.58     25520\n",
            "   macro avg       0.49      0.39      0.34     25520\n",
            "weighted avg       0.42      0.58      0.45     25520\n",
            "\n",
            "\n",
            "Print Confusion Matrix \n",
            "\n",
            "\n",
            "[[14364    68     0]\n",
            " [ 2313   518     0]\n",
            " [ 8257     0     0]]\n",
            "(6380, 3) (6380,)\n",
            "(6380,) (6380,)\n",
            "\n",
            "Classification Report \n",
            "\n",
            "\n",
            "              precision    recall  f1-score   support\n",
            "\n",
            "           0       0.59      1.00      0.74      3694\n",
            "           1       0.90      0.19      0.31       833\n",
            "           2       0.00      0.00      0.00      1853\n",
            "\n",
            "    accuracy                           0.60      6380\n",
            "   macro avg       0.50      0.39      0.35      6380\n",
            "weighted avg       0.46      0.60      0.47      6380\n",
            "\n",
            "\n",
            "Print Confusion Matrix \n",
            "\n",
            "\n",
            "[[3676   18    0]\n",
            " [ 678  155    0]\n",
            " [1853    0    0]]\n",
            "Epoch 3/3\n",
            "58/58 [==============================] - 32s 547ms/step - loss: 0.2042 - accuracy: 0.5775 - val_loss: 3.5014 - val_accuracy: 0.6196\n",
            "here\n",
            "(25520, 3) (25520,)\n",
            "(25520,) (25520,)\n",
            "\n",
            "Classification Report \n",
            "\n",
            "\n",
            "              precision    recall  f1-score   support\n",
            "\n",
            "           0       0.59      0.97      0.73     14432\n",
            "           1       0.77      0.47      0.58      2831\n",
            "           2       0.00      0.00      0.00      8257\n",
            "\n",
            "    accuracy                           0.60     25520\n",
            "   macro avg       0.45      0.48      0.44     25520\n",
            "weighted avg       0.42      0.60      0.48     25520\n",
            "\n",
            "\n",
            "Print Confusion Matrix \n",
            "\n",
            "\n",
            "[[14044   388     0]\n",
            " [ 1507  1324     0]\n",
            " [ 8257     0     0]]\n",
            "(6380, 3) (6380,)\n",
            "(6380,) (6380,)\n",
            "\n",
            "Classification Report \n",
            "\n",
            "\n",
            "              precision    recall  f1-score   support\n",
            "\n",
            "           0       0.61      0.97      0.75      3694\n",
            "           1       0.77      0.45      0.57       833\n",
            "           2       0.00      0.00      0.00      1853\n",
            "\n",
            "    accuracy                           0.62      6380\n",
            "   macro avg       0.46      0.47      0.44      6380\n",
            "weighted avg       0.45      0.62      0.51      6380\n",
            "\n",
            "\n",
            "Print Confusion Matrix \n",
            "\n",
            "\n",
            "[[3580  114    0]\n",
            " [ 460  373    0]\n",
            " [1853    0    0]]\n"
          ],
          "name": "stdout"
        },
        {
          "output_type": "execute_result",
          "data": {
            "text/plain": [
              "<tensorflow.python.keras.callbacks.History at 0x7fed7cf9c2e8>"
            ]
          },
          "metadata": {
            "tags": []
          },
          "execution_count": 39
        }
      ]
    },
    {
      "cell_type": "code",
      "metadata": {
        "id": "JCW9DwvUS7v6"
      },
      "source": [
        ""
      ],
      "execution_count": null,
      "outputs": []
    }
  ]
}