{
  "nbformat": 4,
  "nbformat_minor": 0,
  "metadata": {
    "colab": {
      "name": "SVC_RandomForest.ipynb",
      "provenance": []
    },
    "kernelspec": {
      "name": "python3",
      "display_name": "Python 3"
    }
  },
  "cells": [
    {
      "cell_type": "code",
      "metadata": {
        "colab": {
          "base_uri": "https://localhost:8080/"
        },
        "id": "t1qcNYXWMX4W",
        "outputId": "8751931f-e908-426f-a118-7532c52d6303"
      },
      "source": [
        "from google.colab import drive\n",
        "drive.mount('/content/drive')"
      ],
      "execution_count": null,
      "outputs": [
        {
          "output_type": "stream",
          "text": [
            "Mounted at /content/drive\n"
          ],
          "name": "stdout"
        }
      ]
    },
    {
      "cell_type": "code",
      "metadata": {
        "id": "itJ_O_IaMYVo"
      },
      "source": [
        "import os"
      ],
      "execution_count": null,
      "outputs": []
    },
    {
      "cell_type": "code",
      "metadata": {
        "id": "Lo2YSAX5MbTR"
      },
      "source": [
        "os.chdir(\"/content/drive/My Drive/Thesis\")"
      ],
      "execution_count": null,
      "outputs": []
    },
    {
      "cell_type": "code",
      "metadata": {
        "id": "yXV9IYWKMjaV"
      },
      "source": [
        "import numpy as np\n",
        "import matplotlib.pyplot as plt\n",
        "from sklearn.metrics import *\n",
        "import json"
      ],
      "execution_count": null,
      "outputs": []
    },
    {
      "cell_type": "code",
      "metadata": {
        "id": "1gyVGdR1Mnm9"
      },
      "source": [
        "with open('training.json') as f:\n",
        "  file2 = json.load(f)\n",
        "  f.close()\n"
      ],
      "execution_count": null,
      "outputs": []
    },
    {
      "cell_type": "code",
      "metadata": {
        "id": "jXmUEkXdMuFF"
      },
      "source": [
        "def get_surroundings(pos, size, ar):\n",
        "  first_end_index = -1\n",
        "  second_end_index = pos\n",
        "\n",
        "  for i in range(0, pos):\n",
        "    first_end_index = i\n",
        "  for i in range(pos + 1, size):\n",
        "    second_end_index = i\n",
        "    break\n",
        "\n",
        "  return first_end_index, pos, second_end_index\n",
        "\n",
        "def get_dist(x, y):\n",
        "  return np.abs(x - y)\n",
        "\n",
        "def get_displacement(x, y):\n",
        "  return x - y\n",
        "\n",
        "def get_feature(x1, x2, x3, y1, y2, y3):\n",
        "  r = []\n",
        "\n",
        "  r.append(get_dist(x1, x2))\n",
        "  r.append(get_dist(x3, x2))\n",
        "  r.append(get_dist(x1, x3))\n",
        "\n",
        "  r.append(get_dist(y1, y2))\n",
        "  r.append(get_dist(y3, y2))\n",
        "  r.append(get_dist(y1, y3))\n",
        "\n",
        "  r.append(get_displacement(x2, y1))\n",
        "  r.append(get_displacement(x2, y2))\n",
        "  r.append(get_displacement(x2, y3))\n",
        "\n",
        "  r.append(get_displacement(x1, y1))\n",
        "  r.append(get_displacement(x1, y2))\n",
        "  r.append(get_displacement(x1, y3))\n",
        "\n",
        "  r.append(get_displacement(x3, y1))\n",
        "  r.append(get_displacement(x3, y2))\n",
        "  r.append(get_displacement(x3, y3))\n",
        "\n",
        "  return r\n",
        "\n",
        "def prepare_data(df):\n",
        "  data_x, data_y = [], []\n",
        "  for dic in df:\n",
        "    x_pos = dic['x_pos']\n",
        "    y_pos = dic['y_pos']\n",
        "    size = len(x_pos)\n",
        "    for i in range(size):\n",
        "      if x_pos[i] != 0:\n",
        "        x1, x2, x3 = get_surroundings(i, size, x_pos)\n",
        "        for j in range(size):\n",
        "          if y_pos[j] != 0:\n",
        "            y1, y2, y3 = get_surroundings(j, size, y_pos)\n",
        "            features = get_feature(x1, x2, x3, y1, y2, y3)\n",
        "            data_x.append(features)\n",
        "            data_y.append(1 if x_pos[i] == y_pos[j] else 0)\n",
        "\n",
        "\n",
        "  return data_x, data_y"
      ],
      "execution_count": null,
      "outputs": []
    },
    {
      "cell_type": "code",
      "metadata": {
        "id": "u7WAzgZHM3U9"
      },
      "source": [
        "def get_arr2(df, model):\n",
        "  ty, py = [], []\n",
        "  for dic in df:\n",
        "    x = dic['x_pos']\n",
        "    y = dic['y_pos']\n",
        "    for i in range(len(x)):\n",
        "      if x[i] != 0:\n",
        "        temp_ty = []\n",
        "        temp_py = []\n",
        "        x1, x2, x3 = get_surroundings(i, len(x), x)\n",
        "        for j in range(len(y)):\n",
        "          if y[j] != 0:\n",
        "            y1, y2, y3 = get_surroundings(j, len(y), y)\n",
        "            ft = get_feature(x1, x2, x3, y1, y2, y3)\n",
        "            pp = model.predict_proba([ft])[0]\n",
        "            pp = pp[1]/(pp[0] + pp[1])\n",
        "            temp_py.append(pp)\n",
        "            if y[j] == x[i]:\n",
        "              temp_ty.append(1)\n",
        "            else:\n",
        "              temp_ty.append(0)\n",
        "        #idx = np.argmax(temp_py)\n",
        "        #temp_py = [1 if _ >= 0.5 else 0 for _ in temp_py]\n",
        "        #temp_py = [0] * len(temp_py)\n",
        "        #temp_py[idx] = 1\n",
        "        ty.extend(temp_ty)\n",
        "        py.extend(temp_py) \n",
        "\n",
        "  return ty, py"
      ],
      "execution_count": null,
      "outputs": []
    },
    {
      "cell_type": "code",
      "metadata": {
        "id": "ieGZBYLOM-mt"
      },
      "source": [
        "train_x, train_y = prepare_data(file[116:])\n",
        "valid_x, valid_y = prepare_data(file[:116])"
      ],
      "execution_count": null,
      "outputs": []
    },
    {
      "cell_type": "code",
      "metadata": {
        "id": "ew83vR1kNVv1"
      },
      "source": [
        "from sklearn.ensemble import RandomForestClassifier\n",
        "from sklearn.svm import SVC"
      ],
      "execution_count": 2,
      "outputs": []
    },
    {
      "cell_type": "code",
      "metadata": {
        "colab": {
          "base_uri": "https://localhost:8080/"
        },
        "id": "XUSYZAoDNkAd",
        "outputId": "3334fe74-41f7-4870-ca6a-b49abcd78fe4"
      },
      "source": [
        "model = RandomForestClassifier()\n",
        "# model = SVC()\n",
        "model.fit(train_x, train_y)"
      ],
      "execution_count": null,
      "outputs": [
        {
          "output_type": "execute_result",
          "data": {
            "text/plain": [
              "RandomForestClassifier(bootstrap=True, ccp_alpha=0.0, class_weight=None,\n",
              "                       criterion='gini', max_depth=None, max_features='auto',\n",
              "                       max_leaf_nodes=None, max_samples=None,\n",
              "                       min_impurity_decrease=0.0, min_impurity_split=None,\n",
              "                       min_samples_leaf=1, min_samples_split=2,\n",
              "                       min_weight_fraction_leaf=0.0, n_estimators=100,\n",
              "                       n_jobs=None, oob_score=False, random_state=None,\n",
              "                       verbose=0, warm_start=False)"
            ]
          },
          "metadata": {
            "tags": []
          },
          "execution_count": 57
        }
      ]
    },
    {
      "cell_type": "code",
      "metadata": {
        "id": "l0wXsMawN9zN"
      },
      "source": [
        "ty, tp = get_arr2(file[116:], model)"
      ],
      "execution_count": null,
      "outputs": []
    },
    {
      "cell_type": "code",
      "metadata": {
        "id": "tYaiOMkHOGLt"
      },
      "source": [
        "from sklearn.metrics import classification_report\n",
        "from sklearn.metrics import confusion_matrix"
      ],
      "execution_count": null,
      "outputs": []
    },
    {
      "cell_type": "code",
      "metadata": {
        "colab": {
          "base_uri": "https://localhost:8080/"
        },
        "id": "Ytk9jN1jOPVt",
        "outputId": "b291f32f-1678-411e-d92c-092f16fc6443"
      },
      "source": [
        "print(classification_report(ty, tp))\n",
        "print(confusion_matrix(ty, tp))"
      ],
      "execution_count": null,
      "outputs": [
        {
          "output_type": "stream",
          "text": [
            "              precision    recall  f1-score   support\n",
            "\n",
            "           0       0.95      0.95      0.95      8998\n",
            "           1       0.77      0.77      0.77      2008\n",
            "\n",
            "    accuracy                           0.92     11006\n",
            "   macro avg       0.86      0.86      0.86     11006\n",
            "weighted avg       0.92      0.92      0.92     11006\n",
            "\n",
            "[[8546  452]\n",
            " [ 452 1556]]\n"
          ],
          "name": "stdout"
        }
      ]
    },
    {
      "cell_type": "code",
      "metadata": {
        "colab": {
          "base_uri": "https://localhost:8080/"
        },
        "id": "iEDlkGzHOS6V",
        "outputId": "4e1495ea-db68-40f8-da05-1c89b6d114d0"
      },
      "source": [
        "ty, tp = get_arr2(file[:116], model)\n",
        "print(classification_report(ty, tp))\n",
        "print(confusion_matrix(ty, tp))"
      ],
      "execution_count": null,
      "outputs": [
        {
          "output_type": "stream",
          "text": [
            "              precision    recall  f1-score   support\n",
            "\n",
            "           0       0.95      0.95      0.95      2515\n",
            "           1       0.75      0.75      0.75       524\n",
            "\n",
            "    accuracy                           0.91      3039\n",
            "   macro avg       0.85      0.85      0.85      3039\n",
            "weighted avg       0.91      0.91      0.91      3039\n",
            "\n",
            "[[2384  131]\n",
            " [ 131  393]]\n"
          ],
          "name": "stdout"
        }
      ]
    }
  ]
}